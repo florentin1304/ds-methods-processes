{
  "metadata": {
    "language_info": {
      "codemirror_mode": {
        "name": "python",
        "version": 3
      },
      "file_extension": ".py",
      "mimetype": "text/x-python",
      "name": "python",
      "nbconvert_exporter": "python",
      "pygments_lexer": "ipython3",
      "version": "3.8"
    },
    "kernelspec": {
      "name": "python",
      "display_name": "Python (Pyodide)",
      "language": "python"
    }
  },
  "nbformat_minor": 4,
  "nbformat": 4,
  "cells": [
    {
      "cell_type": "code",
      "source": "import json\n\nfilename = \"to-bike.json\"\nwith open(filename) as f:\n    data = json.load(f)\n",
      "metadata": {
        "trusted": true
      },
      "execution_count": 12,
      "outputs": [
        {
          "name": "stdout",
          "text": "online\n",
          "output_type": "stream"
        }
      ]
    },
    {
      "cell_type": "code",
      "source": "stations = data['network']['stations']\nprint(stations[0].keys())",
      "metadata": {
        "trusted": true
      },
      "execution_count": 16,
      "outputs": [
        {
          "name": "stdout",
          "text": "dict_keys(['empty_slots', 'extra', 'free_bikes', 'id', 'latitude', 'longitude', 'name', 'timestamp'])\n",
          "output_type": "stream"
        }
      ]
    },
    {
      "cell_type": "code",
      "source": "#extra.status field is \"online\"\n\ncount_online = 0\nfor s in stations:\n    if s['extra']['status'] == \"online\":\n        count_online += 1\n        \nprint(f\"Online stations: {count_online}\")",
      "metadata": {
        "trusted": true
      },
      "execution_count": 17,
      "outputs": [
        {
          "name": "stdout",
          "text": "Online stations: 106\n",
          "output_type": "stream"
        }
      ]
    },
    {
      "cell_type": "code",
      "source": "count_free_bikes = 0\ncount_free_docks = 0\nfor s in stations:\n    count_free_bikes += s['free_bikes']\n    count_free_docks += s['empty_slots']\n    \nprint(f\"Total free bikes: {count_free_bikes}\")\nprint(f\"Total free docks: {count_free_docks}\")",
      "metadata": {
        "trusted": true
      },
      "execution_count": 18,
      "outputs": [
        {
          "name": "stdout",
          "text": "Total free bikes: 214\nTotal free docks: 1208\n",
          "output_type": "stream"
        }
      ]
    },
    {
      "cell_type": "code",
      "source": "from math import cos, acos, sin\ndef distance_coords(lat1, lng1, lat2, lng2):\n    \"\"\"Compute the distance among two points.\"\"\"\n    deg2rad = lambda x: x * 3.141592 / 180\n    lat1, lng1, lat2, lng2 = map(deg2rad, [ lat1, lng1, lat2, lng2 ])\n    R = 6378100 # Radius of the Earth, in meters\n    return R * acos(sin(lat1) * sin(lat2) + cos(lat1) * cos(lat2) * cos(lng1 - lng2))",
      "metadata": {
        "trusted": true
      },
      "execution_count": 19,
      "outputs": []
    },
    {
      "cell_type": "code",
      "source": "my_lat = 45.074512\nmy_long = 7.694419\n\ngood_stations = []\nfor s in stations:\n    if s['free_bikes'] > 0:\n        good_stations.append( [s['name'], s['id'], distance_coords(my_lat, my_long, s['latitude'], s['longitude'])] )\n\n# NlogN\nsorted_stations = sorted(good_stations, key=lambda x: x[2], reverse=False)\nprint(sorted_stations[0])\n\n# N\nnearest = min(good_stations, key=lambda x: x[2])\nprint(nearest)",
      "metadata": {
        "trusted": true
      },
      "execution_count": 22,
      "outputs": [
        {
          "name": "stdout",
          "text": "['Regina Margherita 3', '1916e772eb3e6c88b37a0f584da1e333', 164.17482149485286]\n['Regina Margherita 3', '1916e772eb3e6c88b37a0f584da1e333', 164.17482149485286]\n",
          "output_type": "stream"
        }
      ]
    }
  ]
}