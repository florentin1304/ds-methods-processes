{
 "cells": [
  {
   "cell_type": "code",
   "execution_count": 14,
   "metadata": {},
   "outputs": [],
   "source": [
    "import csv\n",
    "\n",
    "measures = ['sepal_length','sepal_width','petal_length','petal_width']\n",
    "list_types = []\n",
    "with open(\"iris.csv\") as f:\n",
    "    for cols in csv.reader(f):\n",
    "        if(cols != []):\n",
    "            list_types.append(cols[-1])\n",
    "\n",
    "data = {}\n",
    "types = set(list_types)\n",
    "for t in types:\n",
    "    data[t] = {}\n",
    "    for m in measures:\n",
    "        data[t][m] = []\n",
    "\n",
    "with open(\"iris.csv\") as f:\n",
    "    for cols in csv.reader(f):\n",
    "        if(cols != []):\n",
    "            for i,m in enumerate(measures):\n",
    "                data[cols[-1]][m].append(float(cols[i]))\n"
   ]
  },
  {
   "cell_type": "code",
   "execution_count": 20,
   "metadata": {},
   "outputs": [],
   "source": [
    "from math import sqrt\n",
    "\n",
    "def mean(x):\n",
    "    return sum(x)/len(x)\n",
    "\n",
    "def std(x):\n",
    "    m = mean(x)\n",
    "    return sqrt(sum([ (x[i] - m)**2 for i in range(len(x))]) / len(x) )"
   ]
  },
  {
   "cell_type": "code",
   "execution_count": 29,
   "metadata": {},
   "outputs": [
    {
     "name": "stdout",
     "output_type": "stream",
     "text": [
      "Iris-versicolor\n",
      "--- sepal_length         MEAN: 5.936 | STD: 0.51098\n",
      "--- sepal_width          MEAN:  2.77 | STD: 0.31064\n",
      "--- petal_length         MEAN:  4.26 | STD: 0.46519\n",
      "--- petal_width          MEAN: 1.326 | STD: 0.19577\n",
      "Iris-setosa\n",
      "--- sepal_length         MEAN: 5.006 | STD: 0.34895\n",
      "--- sepal_width          MEAN: 3.418 | STD: 0.37719\n",
      "--- petal_length         MEAN: 1.464 | STD: 0.17177\n",
      "--- petal_width          MEAN: 0.244 | STD: 0.10613\n",
      "Iris-virginica\n",
      "--- sepal_length         MEAN: 6.588 | STD: 0.62949\n",
      "--- sepal_width          MEAN: 2.974 | STD: 0.31926\n",
      "--- petal_length         MEAN: 5.552 | STD: 0.54635\n",
      "--- petal_width          MEAN: 2.026 | STD: 0.27189\n"
     ]
    }
   ],
   "source": [
    "for k,v in data.items():\n",
    "    print(k)\n",
    "    for k2,v2 in v.items():\n",
    "        print(f\"--- {k2:20} MEAN: {mean(v2):5.5} | STD: {std(v2):5.5}\")\n",
    "        \n",
    "        "
   ]
  },
  {
   "cell_type": "markdown",
   "metadata": {},
   "source": [
    "The petal length is characterizion for iris setosa, while petal width is characteriziong for all of them"
   ]
  }
 ],
 "metadata": {
  "kernelspec": {
   "display_name": "Python 3",
   "language": "python",
   "name": "python3"
  },
  "language_info": {
   "codemirror_mode": {
    "name": "ipython",
    "version": 3
   },
   "file_extension": ".py",
   "mimetype": "text/x-python",
   "name": "python",
   "nbconvert_exporter": "python",
   "pygments_lexer": "ipython3",
   "version": "3.7.3"
  }
 },
 "nbformat": 4,
 "nbformat_minor": 4
}
