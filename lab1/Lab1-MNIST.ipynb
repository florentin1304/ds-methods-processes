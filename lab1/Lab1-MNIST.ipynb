{
 "cells": [
  {
   "cell_type": "code",
   "execution_count": 2,
   "metadata": {},
   "outputs": [
    {
     "name": "stdout",
     "output_type": "stream",
     "text": [
      "10000\n"
     ]
    }
   ],
   "source": [
    "import csv \n",
    "\n",
    "filename = \"mnist_test.csv\"\n",
    "\n",
    "data = []\n",
    "with open(filename, 'r') as f:\n",
    "    for cols in csv.reader(f):\n",
    "        data.append([int(cols[0]), [ int(c) for c in cols[1:] ]])\n",
    "        #print(len(cols[1:]))\n",
    "\n",
    "print(len(data))\n",
    "#data = data[1:] # the first one had only 610 elements, not 784: I delete it"
   ]
  },
  {
   "cell_type": "code",
   "execution_count": 3,
   "metadata": {},
   "outputs": [],
   "source": [
    "def getChar(x):\n",
    "    if x < 64:\n",
    "        return \" \"\n",
    "    if x < 128:\n",
    "        return \".\"\n",
    "    if x < 192:\n",
    "        return \"*\"\n",
    "    if x < 256:\n",
    "        return \"#\""
   ]
  },
  {
   "cell_type": "code",
   "execution_count": 10,
   "metadata": {},
   "outputs": [
    {
     "name": "stdout",
     "output_type": "stream",
     "text": [
      "7\n",
      "                            \n",
      "                            \n",
      "                            \n",
      "                            \n",
      "                            \n",
      "                            \n",
      "       ##.       ..###      \n",
      "        ##############.     \n",
      "        .*############.     \n",
      "             .    ####      \n",
      "                 .###       \n",
      "                 .###       \n",
      "                .###*       \n",
      "                ###.        \n",
      "               ####         \n",
      "              ####.         \n",
      "             ####*          \n",
      "            .####.          \n",
      "           .####            \n",
      "           ####.            \n",
      "          *###.             \n",
      "         .###*              \n",
      "        *####               \n",
      "        ####*               \n",
      "       .####                \n",
      "        ###.                \n",
      "                            \n",
      "                            \n"
     ]
    }
   ],
   "source": [
    "n = 34\n",
    "numbah = data[n]\n",
    "numbah_matrix = numbah[1]\n",
    "print(numbah[0])\n",
    "for i in range(28):\n",
    "    for j in range(28):\n",
    "        print(getChar(numbah_matrix[i*28+j]), end=\"\" )\n",
    "    print()"
   ]
  },
  {
   "cell_type": "code",
   "execution_count": 5,
   "metadata": {},
   "outputs": [
    {
     "name": "stdout",
     "output_type": "stream",
     "text": [
      "<class 'tuple'>\n"
     ]
    }
   ],
   "source": [
    "from math import sqrt\n",
    "\n",
    "def distEuc(x,y):\n",
    "    return sqrt(sum( [ (xi-yi)**2 for xi,yi in zip(x,y) ] ))"
   ]
  },
  {
   "cell_type": "code",
   "execution_count": 7,
   "metadata": {
    "scrolled": true
   },
   "outputs": [
    {
     "name": "stdout",
     "output_type": "stream",
     "text": [
      "Dist 25 and 29: 3539.223219860539\n",
      "Dist 25 and 31: 3556.4199695761467\n",
      "Dist 25 and 34: 3223.2069434027967\n",
      "Dist 29 and 31: 1171.8293391104355\n",
      "Dist 29 and 34: 2531.0033583541526\n",
      "Dist 31 and 34: 2515.5599774205343\n"
     ]
    }
   ],
   "source": [
    "nums = [25,29,31,34]\n",
    "for n1 in range(len(nums)-1):\n",
    "    for n2 in range(n1+1, len(nums)):\n",
    "        num1_matrix = data[ nums[n1] ][1]\n",
    "        num2_matrix = data[ nums[n2] ][1]\n",
    "        print(f\"Dist { nums[n1] } and { nums[n2] }: {distEuc(num1_matrix, num2_matrix)}\")"
   ]
  }
 ],
 "metadata": {
  "kernelspec": {
   "display_name": "Python 3",
   "language": "python",
   "name": "python3"
  },
  "language_info": {
   "codemirror_mode": {
    "name": "ipython",
    "version": 3
   },
   "file_extension": ".py",
   "mimetype": "text/x-python",
   "name": "python",
   "nbconvert_exporter": "python",
   "pygments_lexer": "ipython3",
   "version": "3.7.3"
  }
 },
 "nbformat": 4,
 "nbformat_minor": 4
}
