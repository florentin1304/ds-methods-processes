{
 "cells": [
  {
   "cell_type": "code",
   "execution_count": 1,
   "id": "4e6be15d",
   "metadata": {},
   "outputs": [],
   "source": [
    "#!pip install pandas\n",
    "#!pip install matplotlib\n",
    "import pandas as pd\n",
    "import numpy as np\n",
    "import matplotlib as plt"
   ]
  },
  {
   "cell_type": "code",
   "execution_count": 2,
   "id": "f9482c08",
   "metadata": {},
   "outputs": [
    {
     "data": {
      "text/html": [
       "<div>\n",
       "<style scoped>\n",
       "    .dataframe tbody tr th:only-of-type {\n",
       "        vertical-align: middle;\n",
       "    }\n",
       "\n",
       "    .dataframe tbody tr th {\n",
       "        vertical-align: top;\n",
       "    }\n",
       "\n",
       "    .dataframe thead th {\n",
       "        text-align: right;\n",
       "    }\n",
       "</style>\n",
       "<table border=\"1\" class=\"dataframe\">\n",
       "  <thead>\n",
       "    <tr style=\"text-align: right;\">\n",
       "      <th></th>\n",
       "      <th>@id</th>\n",
       "      <th>@type</th>\n",
       "      <th>@lat</th>\n",
       "      <th>@lon</th>\n",
       "      <th>amenity</th>\n",
       "      <th>name</th>\n",
       "      <th>shop</th>\n",
       "      <th>public_transport</th>\n",
       "      <th>highway</th>\n",
       "    </tr>\n",
       "  </thead>\n",
       "  <tbody>\n",
       "    <tr>\n",
       "      <th>0</th>\n",
       "      <td>42432939</td>\n",
       "      <td>node</td>\n",
       "      <td>40.814104</td>\n",
       "      <td>-73.949623</td>\n",
       "      <td>NaN</td>\n",
       "      <td>NaN</td>\n",
       "      <td>NaN</td>\n",
       "      <td>stop_position</td>\n",
       "      <td>NaN</td>\n",
       "    </tr>\n",
       "    <tr>\n",
       "      <th>1</th>\n",
       "      <td>42448838</td>\n",
       "      <td>node</td>\n",
       "      <td>40.761647</td>\n",
       "      <td>-73.949864</td>\n",
       "      <td>NaN</td>\n",
       "      <td>NaN</td>\n",
       "      <td>NaN</td>\n",
       "      <td>stop_position</td>\n",
       "      <td>NaN</td>\n",
       "    </tr>\n",
       "    <tr>\n",
       "      <th>2</th>\n",
       "      <td>42723103</td>\n",
       "      <td>node</td>\n",
       "      <td>40.852182</td>\n",
       "      <td>-73.772677</td>\n",
       "      <td>ferry_terminal</td>\n",
       "      <td>Hart Island Ferry Terminal</td>\n",
       "      <td>NaN</td>\n",
       "      <td>NaN</td>\n",
       "      <td>NaN</td>\n",
       "    </tr>\n",
       "    <tr>\n",
       "      <th>3</th>\n",
       "      <td>42764076</td>\n",
       "      <td>node</td>\n",
       "      <td>40.867164</td>\n",
       "      <td>-73.882158</td>\n",
       "      <td>NaN</td>\n",
       "      <td>Botanical Garden</td>\n",
       "      <td>NaN</td>\n",
       "      <td>stop_position</td>\n",
       "      <td>NaN</td>\n",
       "    </tr>\n",
       "    <tr>\n",
       "      <th>4</th>\n",
       "      <td>42811266</td>\n",
       "      <td>node</td>\n",
       "      <td>40.704806</td>\n",
       "      <td>-73.772734</td>\n",
       "      <td>NaN</td>\n",
       "      <td>NaN</td>\n",
       "      <td>NaN</td>\n",
       "      <td>stop_position</td>\n",
       "      <td>NaN</td>\n",
       "    </tr>\n",
       "    <tr>\n",
       "      <th>...</th>\n",
       "      <td>...</td>\n",
       "      <td>...</td>\n",
       "      <td>...</td>\n",
       "      <td>...</td>\n",
       "      <td>...</td>\n",
       "      <td>...</td>\n",
       "      <td>...</td>\n",
       "      <td>...</td>\n",
       "      <td>...</td>\n",
       "    </tr>\n",
       "    <tr>\n",
       "      <th>77879</th>\n",
       "      <td>600919896</td>\n",
       "      <td>way</td>\n",
       "      <td>NaN</td>\n",
       "      <td>NaN</td>\n",
       "      <td>NaN</td>\n",
       "      <td>NaN</td>\n",
       "      <td>NaN</td>\n",
       "      <td>NaN</td>\n",
       "      <td>NaN</td>\n",
       "    </tr>\n",
       "    <tr>\n",
       "      <th>77880</th>\n",
       "      <td>600919898</td>\n",
       "      <td>way</td>\n",
       "      <td>NaN</td>\n",
       "      <td>NaN</td>\n",
       "      <td>NaN</td>\n",
       "      <td>NaN</td>\n",
       "      <td>NaN</td>\n",
       "      <td>NaN</td>\n",
       "      <td>NaN</td>\n",
       "    </tr>\n",
       "    <tr>\n",
       "      <th>77881</th>\n",
       "      <td>600919900</td>\n",
       "      <td>way</td>\n",
       "      <td>NaN</td>\n",
       "      <td>NaN</td>\n",
       "      <td>NaN</td>\n",
       "      <td>NaN</td>\n",
       "      <td>NaN</td>\n",
       "      <td>NaN</td>\n",
       "      <td>NaN</td>\n",
       "    </tr>\n",
       "    <tr>\n",
       "      <th>77882</th>\n",
       "      <td>600931232</td>\n",
       "      <td>way</td>\n",
       "      <td>NaN</td>\n",
       "      <td>NaN</td>\n",
       "      <td>NaN</td>\n",
       "      <td>NaN</td>\n",
       "      <td>NaN</td>\n",
       "      <td>NaN</td>\n",
       "      <td>NaN</td>\n",
       "    </tr>\n",
       "    <tr>\n",
       "      <th>77883</th>\n",
       "      <td>600931233</td>\n",
       "      <td>way</td>\n",
       "      <td>NaN</td>\n",
       "      <td>NaN</td>\n",
       "      <td>NaN</td>\n",
       "      <td>NaN</td>\n",
       "      <td>NaN</td>\n",
       "      <td>NaN</td>\n",
       "      <td>NaN</td>\n",
       "    </tr>\n",
       "  </tbody>\n",
       "</table>\n",
       "<p>77884 rows × 9 columns</p>\n",
       "</div>"
      ],
      "text/plain": [
       "             @id @type       @lat       @lon         amenity  \\\n",
       "0       42432939  node  40.814104 -73.949623             NaN   \n",
       "1       42448838  node  40.761647 -73.949864             NaN   \n",
       "2       42723103  node  40.852182 -73.772677  ferry_terminal   \n",
       "3       42764076  node  40.867164 -73.882158             NaN   \n",
       "4       42811266  node  40.704806 -73.772734             NaN   \n",
       "...          ...   ...        ...        ...             ...   \n",
       "77879  600919896   way        NaN        NaN             NaN   \n",
       "77880  600919898   way        NaN        NaN             NaN   \n",
       "77881  600919900   way        NaN        NaN             NaN   \n",
       "77882  600931232   way        NaN        NaN             NaN   \n",
       "77883  600931233   way        NaN        NaN             NaN   \n",
       "\n",
       "                             name shop public_transport highway  \n",
       "0                             NaN  NaN    stop_position     NaN  \n",
       "1                             NaN  NaN    stop_position     NaN  \n",
       "2      Hart Island Ferry Terminal  NaN              NaN     NaN  \n",
       "3                Botanical Garden  NaN    stop_position     NaN  \n",
       "4                             NaN  NaN    stop_position     NaN  \n",
       "...                           ...  ...              ...     ...  \n",
       "77879                         NaN  NaN              NaN     NaN  \n",
       "77880                         NaN  NaN              NaN     NaN  \n",
       "77881                         NaN  NaN              NaN     NaN  \n",
       "77882                         NaN  NaN              NaN     NaN  \n",
       "77883                         NaN  NaN              NaN     NaN  \n",
       "\n",
       "[77884 rows x 9 columns]"
      ]
     },
     "execution_count": 2,
     "metadata": {},
     "output_type": "execute_result"
    }
   ],
   "source": [
    "df_orig = pd.read_csv(\"ny_poi/pois_all_info.csv\", sep=\"\\t\", low_memory=False, index_col=None)\n",
    "df_filter = pd.read_csv(\"ny_poi/ny_municipality_pois_id.csv\", header=None)\n",
    "df_filter.columns = [\"@id\"]\n",
    "df_orig"
   ]
  },
  {
   "cell_type": "markdown",
   "id": "ed0f16a0",
   "metadata": {},
   "source": [
    "## Filter the original dataframe"
   ]
  },
  {
   "cell_type": "code",
   "execution_count": 3,
   "id": "d50a4e7a",
   "metadata": {
    "scrolled": true
   },
   "outputs": [
    {
     "name": "stdout",
     "output_type": "stream",
     "text": [
      "Difference between dataframes:  24363\n",
      "(53521, 9)\n"
     ]
    }
   ],
   "source": [
    "df = df_orig.loc[ df_orig[\"@id\"].isin(df_filter[\"@id\"].to_numpy()) ]\n",
    "print(\"Difference between dataframes: \", df_orig.shape[0] - df.shape[0])\n",
    "print(df.shape)"
   ]
  },
  {
   "cell_type": "markdown",
   "id": "2583b1c8",
   "metadata": {},
   "source": [
    "## Count NaN values"
   ]
  },
  {
   "cell_type": "code",
   "execution_count": 4,
   "id": "49923059",
   "metadata": {},
   "outputs": [
    {
     "data": {
      "text/plain": [
       "@id                     0\n",
       "@type                   0\n",
       "@lat                    0\n",
       "@lon                    0\n",
       "amenity             28824\n",
       "name                22972\n",
       "shop                44804\n",
       "public_transport    45146\n",
       "highway             45962\n",
       "dtype: int64"
      ]
     },
     "execution_count": 4,
     "metadata": {},
     "output_type": "execute_result"
    }
   ],
   "source": [
    "df.isnull().sum()"
   ]
  },
  {
   "cell_type": "markdown",
   "id": "42b2c90e",
   "metadata": {},
   "source": [
    "# Filter unfrequent categories"
   ]
  },
  {
   "cell_type": "code",
   "execution_count": 13,
   "id": "91956e34",
   "metadata": {},
   "outputs": [
    {
     "name": "stdout",
     "output_type": "stream",
     "text": [
      "=========================      amenity     =========================\n",
      "('bicycle_parking', 24.505000607361218)\n",
      "('restaurant', 16.827954812325384)\n",
      "('fast_food', 6.1991334979957085)\n",
      "('cafe', 5.563428756529134)\n",
      "('post_box', 4.425638741547557)\n",
      "('bench', 4.308215572741628)\n",
      "('place_of_worship', 4.097663683848241)\n",
      "('school', 3.69275620520711)\n",
      "('drinking_water', 3.4903024658865447)\n",
      "('bar', 3.3242903996436812)\n",
      "('bank', 2.6602421346722274)\n",
      "('pharmacy', 2.194598534234927)\n",
      "('bicycle_rental', 1.8261327286714986)\n",
      "('toilets', 1.0244159209620602)\n",
      "=========================       shop       =========================\n",
      "('convenience', 9.664785162999655)\n",
      "('clothes', 9.342241677226127)\n",
      "('supermarket', 6.393272664439581)\n",
      "('hairdresser', 5.586913950005759)\n",
      "('deli', 5.321967515263219)\n",
      "('beauty', 4.849671696809123)\n",
      "('alcohol', 4.699919364128557)\n",
      "('laundry', 4.3773758783550285)\n",
      "('bakery', 3.709250086395577)\n",
      "('mobile_phone', 2.810736090312176)\n",
      "('dry_cleaning', 2.6149061168068197)\n",
      "('car_repair', 1.7624697615482088)\n",
      "('gift', 1.7624697615482088)\n",
      "('shoes', 1.750950351342011)\n",
      "('variety_store', 1.301693353300311)\n",
      "('optician', 1.2671351226817187)\n",
      "('books', 1.2210574818569289)\n",
      "('furniture', 1.2095380716507314)\n",
      "('bicycle', 1.1404216104135467)\n",
      "('jewelry', 1.117382790001152)\n",
      "('department_store', 1.0828245593825596)\n",
      "('cosmetics', 1.013708098145375)\n",
      "=========================  public_transport =========================\n",
      "=========================      highway     =========================\n"
     ]
    },
    {
     "name": "stderr",
     "output_type": "stream",
     "text": [
      "C:\\Users\\User\\AppData\\Local\\Temp\\ipykernel_21592\\3813345005.py:19: UserWarning: Boolean Series key will be reindexed to match DataFrame index.\n",
      "  df_filtered = df_filtered[ ~df[col].isin(bad_percentages) ]\n"
     ]
    }
   ],
   "source": [
    "columns = [\"amenity\", \"shop\", \"public_transport\", \"highway\"]\n",
    "type_limit = 15\n",
    "\n",
    "df_filtered = df\n",
    "\n",
    "for col in columns:\n",
    "    print(\"=\"*25,f\" {col:^15}\", \"=\"*25)\n",
    "    if df[col].unique().size < type_limit:\n",
    "        continue\n",
    "    percentages = df_filtered[col].dropna().value_counts() / df_filtered[col].dropna().shape[0] * 100\n",
    "    bad_percentages = []\n",
    "    \n",
    "    for p in percentages.items():\n",
    "        if p[1] < 1:\n",
    "            bad_percentages.append(p[0])\n",
    "        else:\n",
    "            print(p)\n",
    "    \n",
    "    df_filtered = df_filtered[ ~df[col].isin(bad_percentages) ]"
   ]
  },
  {
   "cell_type": "code",
   "execution_count": 16,
   "id": "2e682223",
   "metadata": {},
   "outputs": [
    {
     "data": {
      "text/plain": [
       "<AxesSubplot: >"
      ]
     },
     "execution_count": 16,
     "metadata": {},
     "output_type": "execute_result"
    },
    {
     "data": {
      "image/png": "[encoded data removed]",
      "text/plain": [
       "<Figure size 640x480 with 1 Axes>"
      ]
     },
     "metadata": {},
     "output_type": "display_data"
    }
   ],
   "source": [
    "# choose between [\"amenity\", \"shop\", \"public_transport\", \"highway\"]\n",
    "df_filtered[\"shop\"].dropna().value_counts().plot.barh()"
   ]
  },
  {
   "cell_type": "code",
   "execution_count": null,
   "id": "b827f99e",
   "metadata": {},
   "outputs": [],
   "source": []
  }
 ],
 "metadata": {
  "kernelspec": {
   "display_name": "Python 3 (ipykernel)",
   "language": "python",
   "name": "python3"
  },
  "language_info": {
   "codemirror_mode": {
    "name": "ipython",
    "version": 3
   },
   "file_extension": ".py",
   "mimetype": "text/x-python",
   "name": "python",
   "nbconvert_exporter": "python",
   "pygments_lexer": "ipython3",
   "version": "3.10.4"
  }
 },
 "nbformat": 4,
 "nbformat_minor": 5
}
