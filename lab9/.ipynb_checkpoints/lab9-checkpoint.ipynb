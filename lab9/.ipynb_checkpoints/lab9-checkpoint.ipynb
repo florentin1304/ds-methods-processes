{
 "cells": [
  {
   "cell_type": "code",
   "execution_count": 1,
   "id": "b713dd03",
   "metadata": {},
   "outputs": [],
   "source": [
    "import pandas as pd\n",
    "import numpy as np\n",
    "import matplotlib.pyplot as plt\n",
    "import seaborn as sns\n",
    "df_orig = pd.read_csv(\"NYC_Airbnb/development.csv\")"
   ]
  },
  {
   "cell_type": "markdown",
   "id": "b433e8ed",
   "metadata": {},
   "source": [
    "# Data analysis\n"
   ]
  },
  {
   "cell_type": "markdown",
   "id": "92b37ccd",
   "metadata": {},
   "source": [
    "### Position: Neigh, Neigh group, LatLong"
   ]
  },
  {
   "cell_type": "code",
   "execution_count": 2,
   "id": "17f2c23b",
   "metadata": {},
   "outputs": [
    {
     "data": {
      "text/html": [
       "<div>\n",
       "<style scoped>\n",
       "    .dataframe tbody tr th:only-of-type {\n",
       "        vertical-align: middle;\n",
       "    }\n",
       "\n",
       "    .dataframe tbody tr th {\n",
       "        vertical-align: top;\n",
       "    }\n",
       "\n",
       "    .dataframe thead th {\n",
       "        text-align: right;\n",
       "    }\n",
       "</style>\n",
       "<table border=\"1\" class=\"dataframe\">\n",
       "  <thead>\n",
       "    <tr style=\"text-align: right;\">\n",
       "      <th></th>\n",
       "      <th>id</th>\n",
       "      <th>name</th>\n",
       "      <th>host_id</th>\n",
       "      <th>host_name</th>\n",
       "      <th>neighbourhood_group</th>\n",
       "      <th>neighbourhood</th>\n",
       "      <th>latitude</th>\n",
       "      <th>longitude</th>\n",
       "      <th>room_type</th>\n",
       "      <th>price</th>\n",
       "      <th>minimum_nights</th>\n",
       "      <th>number_of_reviews</th>\n",
       "      <th>last_review</th>\n",
       "      <th>reviews_per_month</th>\n",
       "      <th>calculated_host_listings_count</th>\n",
       "      <th>availability_365</th>\n",
       "    </tr>\n",
       "  </thead>\n",
       "  <tbody>\n",
       "    <tr>\n",
       "      <th>0</th>\n",
       "      <td>12783632</td>\n",
       "      <td>NYC Mini Hotel</td>\n",
       "      <td>57230304</td>\n",
       "      <td>Imanuelly</td>\n",
       "      <td>Queens</td>\n",
       "      <td>Elmhurst</td>\n",
       "      <td>40.74037</td>\n",
       "      <td>-73.88610</td>\n",
       "      <td>Private room</td>\n",
       "      <td>75</td>\n",
       "      <td>1</td>\n",
       "      <td>2</td>\n",
       "      <td>2019-05-26</td>\n",
       "      <td>0.92</td>\n",
       "      <td>3</td>\n",
       "      <td>351</td>\n",
       "    </tr>\n",
       "    <tr>\n",
       "      <th>1</th>\n",
       "      <td>3463385</td>\n",
       "      <td>Gorgeous room in Manhattan</td>\n",
       "      <td>10698270</td>\n",
       "      <td>Evgenia</td>\n",
       "      <td>Manhattan</td>\n",
       "      <td>Upper East Side</td>\n",
       "      <td>40.76717</td>\n",
       "      <td>-73.95532</td>\n",
       "      <td>Private room</td>\n",
       "      <td>95</td>\n",
       "      <td>1</td>\n",
       "      <td>202</td>\n",
       "      <td>2019-05-27</td>\n",
       "      <td>3.31</td>\n",
       "      <td>2</td>\n",
       "      <td>263</td>\n",
       "    </tr>\n",
       "    <tr>\n",
       "      <th>2</th>\n",
       "      <td>17572926</td>\n",
       "      <td>Great 1 Bedroom on Upper East</td>\n",
       "      <td>36578169</td>\n",
       "      <td>James</td>\n",
       "      <td>Manhattan</td>\n",
       "      <td>Upper East Side</td>\n",
       "      <td>40.77984</td>\n",
       "      <td>-73.94725</td>\n",
       "      <td>Entire home/apt</td>\n",
       "      <td>130</td>\n",
       "      <td>2</td>\n",
       "      <td>0</td>\n",
       "      <td>NaN</td>\n",
       "      <td>NaN</td>\n",
       "      <td>1</td>\n",
       "      <td>0</td>\n",
       "    </tr>\n",
       "    <tr>\n",
       "      <th>3</th>\n",
       "      <td>33913644</td>\n",
       "      <td>Modern and bright 2Bed 2Bath Bushwick, Brooklyn</td>\n",
       "      <td>50981314</td>\n",
       "      <td>Ofier</td>\n",
       "      <td>Brooklyn</td>\n",
       "      <td>Bushwick</td>\n",
       "      <td>40.70205</td>\n",
       "      <td>-73.91338</td>\n",
       "      <td>Entire home/apt</td>\n",
       "      <td>150</td>\n",
       "      <td>2</td>\n",
       "      <td>4</td>\n",
       "      <td>2019-07-07</td>\n",
       "      <td>1.64</td>\n",
       "      <td>1</td>\n",
       "      <td>89</td>\n",
       "    </tr>\n",
       "    <tr>\n",
       "      <th>4</th>\n",
       "      <td>9405895</td>\n",
       "      <td>Stylish and zen Brooklyn retreat</td>\n",
       "      <td>48775347</td>\n",
       "      <td>Mathieu</td>\n",
       "      <td>Brooklyn</td>\n",
       "      <td>Fort Greene</td>\n",
       "      <td>40.68914</td>\n",
       "      <td>-73.97853</td>\n",
       "      <td>Entire home/apt</td>\n",
       "      <td>325</td>\n",
       "      <td>3</td>\n",
       "      <td>16</td>\n",
       "      <td>2019-04-20</td>\n",
       "      <td>0.42</td>\n",
       "      <td>1</td>\n",
       "      <td>103</td>\n",
       "    </tr>\n",
       "  </tbody>\n",
       "</table>\n",
       "</div>"
      ],
      "text/plain": [
       "         id                                             name   host_id  \\\n",
       "0  12783632                                   NYC Mini Hotel  57230304   \n",
       "1   3463385                       Gorgeous room in Manhattan  10698270   \n",
       "2  17572926                    Great 1 Bedroom on Upper East  36578169   \n",
       "3  33913644  Modern and bright 2Bed 2Bath Bushwick, Brooklyn  50981314   \n",
       "4   9405895                 Stylish and zen Brooklyn retreat  48775347   \n",
       "\n",
       "   host_name neighbourhood_group    neighbourhood  latitude  longitude  \\\n",
       "0  Imanuelly              Queens         Elmhurst  40.74037  -73.88610   \n",
       "1    Evgenia           Manhattan  Upper East Side  40.76717  -73.95532   \n",
       "2      James           Manhattan  Upper East Side  40.77984  -73.94725   \n",
       "3      Ofier            Brooklyn         Bushwick  40.70205  -73.91338   \n",
       "4    Mathieu            Brooklyn      Fort Greene  40.68914  -73.97853   \n",
       "\n",
       "         room_type  price  minimum_nights  number_of_reviews last_review  \\\n",
       "0     Private room     75               1                  2  2019-05-26   \n",
       "1     Private room     95               1                202  2019-05-27   \n",
       "2  Entire home/apt    130               2                  0         NaN   \n",
       "3  Entire home/apt    150               2                  4  2019-07-07   \n",
       "4  Entire home/apt    325               3                 16  2019-04-20   \n",
       "\n",
       "   reviews_per_month  calculated_host_listings_count  availability_365  \n",
       "0               0.92                               3               351  \n",
       "1               3.31                               2               263  \n",
       "2                NaN                               1                 0  \n",
       "3               1.64                               1                89  \n",
       "4               0.42                               1               103  "
      ]
     },
     "metadata": {},
     "output_type": "display_data"
    },
    {
     "data": {
      "text/plain": [
       "(39116, 16)"
      ]
     },
     "execution_count": 2,
     "metadata": {},
     "output_type": "execute_result"
    }
   ],
   "source": [
    "display(df_orig.head())\n",
    "df_orig.shape"
   ]
  },
  {
   "cell_type": "code",
   "execution_count": 3,
   "id": "78d90a6d",
   "metadata": {},
   "outputs": [
    {
     "data": {
      "text/plain": [
       "id                                   0\n",
       "name                                13\n",
       "host_id                              0\n",
       "host_name                           19\n",
       "neighbourhood_group                  0\n",
       "neighbourhood                        0\n",
       "latitude                             0\n",
       "longitude                            0\n",
       "room_type                            0\n",
       "price                                0\n",
       "minimum_nights                       0\n",
       "number_of_reviews                    0\n",
       "last_review                       8041\n",
       "reviews_per_month                 8041\n",
       "calculated_host_listings_count       0\n",
       "availability_365                     0\n",
       "dtype: int64"
      ]
     },
     "execution_count": 3,
     "metadata": {},
     "output_type": "execute_result"
    }
   ],
   "source": [
    "df_orig.isna().sum()"
   ]
  },
  {
   "cell_type": "code",
   "execution_count": 4,
   "id": "7303848b",
   "metadata": {},
   "outputs": [
    {
     "data": {
      "text/plain": [
       "Williamsburg          3121\n",
       "Bedford-Stuyvesant    2944\n",
       "Harlem                2149\n",
       "Bushwick              1994\n",
       "Hell's Kitchen        1585\n",
       "                      ... \n",
       "Neponsit                 1\n",
       "New Dorp                 1\n",
       "Westerleigh              1\n",
       "Fort Wadsworth           1\n",
       "Woodrow                  1\n",
       "Name: neighbourhood, Length: 221, dtype: int64"
      ]
     },
     "execution_count": 4,
     "metadata": {},
     "output_type": "execute_result"
    }
   ],
   "source": [
    "# Neighbourhood is badly distribuited\n",
    "df_orig.neighbourhood.value_counts()"
   ]
  },
  {
   "cell_type": "code",
   "execution_count": 5,
   "id": "2be89db5",
   "metadata": {},
   "outputs": [
    {
     "name": "stdout",
     "output_type": "stream",
     "text": [
      "Manhattan        17360\n",
      "Brooklyn         16074\n",
      "Queens            4511\n",
      "Bronx              874\n",
      "Staten Island      297\n"
     ]
    }
   ],
   "source": [
    "# Also neighbourhood group, yet it is kinda better\n",
    "print(df_orig.neighbourhood_group.value_counts().to_string())"
   ]
  },
  {
   "cell_type": "code",
   "execution_count": 6,
   "id": "9e484899",
   "metadata": {},
   "outputs": [
    {
     "name": "stderr",
     "output_type": "stream",
     "text": [
      "C:\\Users\\User\\AppData\\Local\\Temp\\ipykernel_14608\\1642389334.py:2: FutureWarning: The default value of numeric_only in DataFrameGroupBy.mean is deprecated. In a future version, numeric_only will default to False. Either specify numeric_only or select only columns which should be valid for the function.\n",
      "  df_orig.groupby(\"neighbourhood_group\").mean().price\n"
     ]
    },
    {
     "data": {
      "text/plain": [
       "neighbourhood_group\n",
       "Bronx             88.097254\n",
       "Brooklyn         125.617706\n",
       "Manhattan        196.751555\n",
       "Queens           100.479716\n",
       "Staten Island    119.936027\n",
       "Name: price, dtype: float64"
      ]
     },
     "execution_count": 6,
     "metadata": {},
     "output_type": "execute_result"
    }
   ],
   "source": [
    "# Conclusion: since they are the same information (and it obviously significative) it is better to keep only neighboorhood group\n",
    "df_orig.groupby(\"neighbourhood_group\").mean().price"
   ]
  },
  {
   "cell_type": "markdown",
   "id": "f1663b43",
   "metadata": {},
   "source": [
    "### Other\n"
   ]
  },
  {
   "cell_type": "code",
   "execution_count": 7,
   "id": "ad3bac52",
   "metadata": {},
   "outputs": [
    {
     "name": "stderr",
     "output_type": "stream",
     "text": [
      "C:\\Users\\User\\AppData\\Local\\Temp\\ipykernel_14608\\3259224742.py:2: FutureWarning: The default value of numeric_only in DataFrame.corr is deprecated. In a future version, it will default to False. Select only valid columns or specify the value of numeric_only to silence this warning.\n",
      "  sns.heatmap(df_orig.corr())\n"
     ]
    },
    {
     "data": {
      "text/plain": [
       "<AxesSubplot: >"
      ]
     },
     "execution_count": 7,
     "metadata": {},
     "output_type": "execute_result"
    },
    {
     "data": {
      "image/png": "[encoded data removed]",
      "text/plain": [
       "<Figure size 640x480 with 2 Axes>"
      ]
     },
     "metadata": {},
     "output_type": "display_data"
    }
   ],
   "source": [
    "# Reviews per month and number of reviews kinda correlated: better keep just one\n",
    "sns.heatmap(df_orig.corr())"
   ]
  },
  {
   "cell_type": "markdown",
   "id": "9b1347d2",
   "metadata": {},
   "source": [
    "# Outlier \n"
   ]
  },
  {
   "cell_type": "code",
   "execution_count": 8,
   "id": "5159e5e2",
   "metadata": {},
   "outputs": [],
   "source": [
    "df_outliers = df_orig.drop([\"id\",\"name\",\"host_id\",\"host_name\", #ID columns, useless for regressiong\n",
    "                               \"neighbourhood\", # We only keep neighbourhood_groups\n",
    "                               \"last_review\", # Kinda useless\n",
    "                               \"latitude\", # Way too specific\n",
    "                               \"longitude\", # Way too specific\n",
    "                                \"reviews_per_month\" # We only keep number_of_reviews\n",
    "                              ], axis=1)"
   ]
  },
  {
   "cell_type": "code",
   "execution_count": 9,
   "id": "9798ef26",
   "metadata": {},
   "outputs": [
    {
     "name": "stdout",
     "output_type": "stream",
     "text": [
      "Shape before:  (39116, 7)\n",
      "Shape after:  (36767, 7)\n",
      "neighbourhood_group               0\n",
      "room_type                         0\n",
      "price                             0\n",
      "minimum_nights                    0\n",
      "number_of_reviews                 0\n",
      "calculated_host_listings_count    0\n",
      "availability_365                  0\n"
     ]
    }
   ],
   "source": [
    "# Boxplot outiler extraction\n",
    "q25 = df_outliers.price.quantile(0.25)\n",
    "q75 = df_outliers.price.quantile(0.75)\n",
    "IQR = q75-q25\n",
    "\n",
    "print(\"Shape before: \", df_outliers.shape)\n",
    "df = df_outliers[(df_outliers.price > q25-1.5*IQR) & (df_outliers.price < q75+1.5*IQR)]\n",
    "      \n",
    "print(\"Shape after: \", df.shape)\n",
    "\n",
    "print(df.isna().sum().to_string())"
   ]
  },
  {
   "cell_type": "markdown",
   "id": "8c55f47d",
   "metadata": {},
   "source": [
    "# Preprocessing"
   ]
  },
  {
   "cell_type": "code",
   "execution_count": 10,
   "id": "a7fcb074",
   "metadata": {},
   "outputs": [],
   "source": [
    "from sklearn.preprocessing import OneHotEncoder\n",
    "\n",
    "roomtype = pd.DataFrame(df[\"room_type\"])\n",
    "ohe_rt = OneHotEncoder(sparse=False, dtype=int)\n",
    "\n",
    "transformed = ohe_rt.fit_transform(roomtype)\n",
    "rt_df = pd.DataFrame(transformed, index=df.index, columns=ohe_rt.get_feature_names_out())\n",
    "df = pd.concat([df, rt_df], axis=1).drop(\"room_type\", axis=1)"
   ]
  },
  {
   "cell_type": "code",
   "execution_count": 11,
   "id": "9c0dd7d5",
   "metadata": {},
   "outputs": [],
   "source": [
    "nbg = pd.DataFrame(df[\"neighbourhood_group\"])\n",
    "ohe_nbg = OneHotEncoder(sparse=False, dtype=int)\n",
    "transformed = ohe_nbg.fit_transform(nbg)\n",
    "nbg_df = pd.DataFrame(transformed, index=df.index, columns=ohe_nbg.get_feature_names_out())\n",
    "df = pd.concat([df, nbg_df], axis=1).drop(\"neighbourhood_group\", axis=1)\n"
   ]
  },
  {
   "cell_type": "markdown",
   "id": "f207be0a",
   "metadata": {},
   "source": [
    "# Model development\n"
   ]
  },
  {
   "cell_type": "code",
   "execution_count": 12,
   "id": "d7a5db48",
   "metadata": {},
   "outputs": [],
   "source": [
    "from sklearn.model_selection import train_test_split\n",
    "\n",
    "y = df.price\n",
    "X = df.drop(\"price\", axis=1)\n",
    "\n",
    "X_train, X_test, y_train, y_test = train_test_split(X, y, test_size=0.25)"
   ]
  },
  {
   "cell_type": "code",
   "execution_count": 13,
   "id": "9ba81112",
   "metadata": {},
   "outputs": [],
   "source": [
    "from sklearn.linear_model import LinearRegression, Ridge, Lasso\n",
    "from sklearn.metrics import mean_squared_error, r2_score\n",
    "\n",
    "lr = LinearRegression(fit_intercept=True)"
   ]
  },
  {
   "cell_type": "code",
   "execution_count": 14,
   "id": "5e15ed71",
   "metadata": {},
   "outputs": [
    {
     "data": {
      "text/plain": [
       "2529.3452289759143"
      ]
     },
     "execution_count": 14,
     "metadata": {},
     "output_type": "execute_result"
    }
   ],
   "source": [
    "from sklearn.model_selection import cross_val_score\n",
    "from sklearn.metrics import get_scorer_names\n",
    "# get_scorer_names()\n",
    "scores = cross_val_score(lr, X, y, cv=5, scoring=\"neg_mean_squared_error\")\n",
    "avg_score = -scores.mean()\n",
    "avg_score"
   ]
  },
  {
   "cell_type": "code",
   "execution_count": 15,
   "id": "52e2fc2d",
   "metadata": {},
   "outputs": [
    {
     "name": "stdout",
     "output_type": "stream",
     "text": [
      "\n",
      "('minimum_nights', -0.19078950003990702)\n",
      "('number_of_reviews', -0.05411387900198783)\n",
      "('calculated_host_listings_count', 0.12466803741059827)\n",
      "('availability_365', 0.0526848200973538)\n",
      "('room_type_Entire home/apt', 59.79825106704483)\n",
      "('room_type_Private room', -18.50346334324093)\n",
      "('room_type_Shared room', -41.29478772380439)\n",
      "('neighbourhood_group_Bronx', -16.63865423335898)\n",
      "('neighbourhood_group_Brooklyn', 5.431372674471296)\n",
      "('neighbourhood_group_Manhattan', 35.175441574159095)\n",
      "('neighbourhood_group_Queens', -6.279735278233367)\n",
      "('neighbourhood_group_Staten Island', -17.68842473703814)\n",
      "80.51313711375506\n"
     ]
    }
   ],
   "source": [
    "lr.fit(X, y)\n",
    "\n",
    "b = [a for a in zip(df.drop(\"price\", axis=1).columns, lr.coef_)]\n",
    "for a in b:\n",
    "    print(a)\n",
    "    \n",
    "print(lr.intercept_)"
   ]
  },
  {
   "cell_type": "markdown",
   "id": "0f38cbcf",
   "metadata": {},
   "source": [
    "# Try on the evaluation DF\n"
   ]
  },
  {
   "cell_type": "code",
   "execution_count": 25,
   "id": "97b072ed",
   "metadata": {},
   "outputs": [
    {
     "data": {
      "text/plain": [
       "(9779, 15)"
      ]
     },
     "execution_count": 25,
     "metadata": {},
     "output_type": "execute_result"
    }
   ],
   "source": [
    "df_eval = pd.read_csv(\"NYC_Airbnb/evaluation.csv\")\n",
    "df_eval.shape"
   ]
  },
  {
   "cell_type": "code",
   "execution_count": 31,
   "id": "cf91132f",
   "metadata": {},
   "outputs": [],
   "source": [
    "df = df_eval.drop([\"id\",\"name\",\"host_id\",\"host_name\", #ID columns, useless for regressiong\n",
    "                               \"neighbourhood\", # We only keep neighbourhood_groups\n",
    "                               \"last_review\", # Kinda useless\n",
    "                               \"latitude\", # Way too specific\n",
    "                               \"longitude\", # Way too specific\n",
    "                                \"reviews_per_month\" # We only keep number_of_reviews\n",
    "                              ], axis=1)"
   ]
  },
  {
   "cell_type": "code",
   "execution_count": 32,
   "id": "e7f1d318",
   "metadata": {},
   "outputs": [
    {
     "data": {
      "text/plain": [
       "(9779, 12)"
      ]
     },
     "execution_count": 32,
     "metadata": {},
     "output_type": "execute_result"
    }
   ],
   "source": [
    "from sklearn.preprocessing import OneHotEncoder\n",
    "\n",
    "roomtype = pd.DataFrame(df[\"room_type\"])\n",
    "ohe_rt = OneHotEncoder(sparse=False, dtype=int)\n",
    "transformed = ohe_rt.fit_transform(roomtype)\n",
    "rt_df = pd.DataFrame(transformed, index=df.index, columns=ohe_rt.get_feature_names_out())\n",
    "df = pd.concat([df, rt_df], axis=1).drop(\"room_type\", axis=1)\n",
    "\n",
    "nbg = pd.DataFrame(df[\"neighbourhood_group\"])\n",
    "ohe_nbg = OneHotEncoder(sparse=False, dtype=int)\n",
    "transformed = ohe_nbg.fit_transform(nbg)\n",
    "nbg_df = pd.DataFrame(transformed, index=df.index, columns=ohe_nbg.get_feature_names_out())\n",
    "df = pd.concat([df, nbg_df], axis=1).drop(\"neighbourhood_group\", axis=1)\n",
    "\n",
    "df.shape"
   ]
  },
  {
   "cell_type": "code",
   "execution_count": 37,
   "id": "dda6e9f4",
   "metadata": {},
   "outputs": [],
   "source": [
    "pred = lr.predict(df)\n",
    "pred_df = pd.DataFrame(pred)\n",
    "pred_df.columns = []\"Predicted\"]\n",
    "pred_df.to_csv(\"result.csv\",header=True, index=True, index_label=\"Id\")"
   ]
  }
 ],
 "metadata": {
  "kernelspec": {
   "display_name": "Python 3 (ipykernel)",
   "language": "python",
   "name": "python3"
  },
  "language_info": {
   "codemirror_mode": {
    "name": "ipython",
    "version": 3
   },
   "file_extension": ".py",
   "mimetype": "text/x-python",
   "name": "python",
   "nbconvert_exporter": "python",
   "pygments_lexer": "ipython3",
   "version": "3.10.4"
  }
 },
 "nbformat": 4,
 "nbformat_minor": 5
}
