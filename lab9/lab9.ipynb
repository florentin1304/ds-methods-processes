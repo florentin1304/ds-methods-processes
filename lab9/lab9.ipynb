{
 "cells": [
  {
   "cell_type": "code",
   "execution_count": 1,
   "id": "d9cd9c05",
   "metadata": {},
   "outputs": [],
   "source": [
    "import pandas as pd\n",
    "import numpy as np\n",
    "import matplotlib.pyplot as plt\n",
    "import seaborn as sns\n",
    "df_orig = pd.read_csv(\"NYC_Airbnb/development.csv\")"
   ]
  },
  {
   "cell_type": "markdown",
   "id": "dea0ddb3",
   "metadata": {},
   "source": [
    "# Data analysis\n"
   ]
  },
  {
   "cell_type": "markdown",
   "id": "4c6a6cc4",
   "metadata": {},
   "source": [
    "### Position: Neigh, Neigh group, LatLong"
   ]
  },
  {
   "cell_type": "code",
   "execution_count": 2,
   "id": "c7a97e07",
   "metadata": {},
   "outputs": [
    {
     "name": "stdout",
     "output_type": "stream",
     "text": [
      "['id', 'name', 'host_id', 'host_name', 'neighbourhood_group', 'neighbourhood', 'latitude', 'longitude', 'room_type', 'price', 'minimum_nights', 'number_of_reviews', 'last_review', 'reviews_per_month', 'calculated_host_listings_count', 'availability_365']\n",
      "(39116, 16)\n",
      "['Private bedroom in Manhattan, NYC '\n",
      " 'Cozy One BR near Manhattan!- 15min to Time Square.'\n",
      " '2 Bedroom Wyndham Midtown 45 Sleeps 6'\n",
      " 'Charming Studio in Prospect Heights' 'Double bedroom downtown'\n",
      " 'THANKSGIVING up to 6 GUESTS + HOT TUB + FIREPLACE'\n",
      " 'Small cute bedroom in Astoria, Queens/LIC'\n",
      " 'Private Bedroom in Brownstone Near Subway'\n",
      " 'Modern Studio with Loft in the LES.'\n",
      " 'Home away from home in cozy BK apartment']\n"
     ]
    }
   ],
   "source": [
    "print(list(df_orig.columns))\n",
    "print(df_orig.shape)\n",
    "print(df_orig.name.unique()[40:50])"
   ]
  },
  {
   "cell_type": "code",
   "execution_count": 3,
   "id": "0ff21004",
   "metadata": {},
   "outputs": [
    {
     "data": {
      "text/plain": [
       "id                                   0\n",
       "name                                13\n",
       "host_id                              0\n",
       "host_name                           19\n",
       "neighbourhood_group                  0\n",
       "neighbourhood                        0\n",
       "latitude                             0\n",
       "longitude                            0\n",
       "room_type                            0\n",
       "price                                0\n",
       "minimum_nights                       0\n",
       "number_of_reviews                    0\n",
       "last_review                       8041\n",
       "reviews_per_month                 8041\n",
       "calculated_host_listings_count       0\n",
       "availability_365                     0\n",
       "dtype: int64"
      ]
     },
     "execution_count": 3,
     "metadata": {},
     "output_type": "execute_result"
    }
   ],
   "source": [
    "df_orig.isna().sum().T"
   ]
  },
  {
   "cell_type": "code",
   "execution_count": 4,
   "id": "f6721ee2",
   "metadata": {},
   "outputs": [
    {
     "data": {
      "text/plain": [
       "Williamsburg          3121\n",
       "Bedford-Stuyvesant    2944\n",
       "Harlem                2149\n",
       "Bushwick              1994\n",
       "Hell's Kitchen        1585\n",
       "                      ... \n",
       "Neponsit                 1\n",
       "New Dorp                 1\n",
       "Westerleigh              1\n",
       "Fort Wadsworth           1\n",
       "Woodrow                  1\n",
       "Name: neighbourhood, Length: 221, dtype: int64"
      ]
     },
     "execution_count": 4,
     "metadata": {},
     "output_type": "execute_result"
    }
   ],
   "source": [
    "# Neighbourhood is badly distribuited also it havily increases the dimensionality of the problem\n",
    "df_orig.neighbourhood.value_counts()"
   ]
  },
  {
   "cell_type": "code",
   "execution_count": 5,
   "id": "df99ea27",
   "metadata": {},
   "outputs": [
    {
     "name": "stdout",
     "output_type": "stream",
     "text": [
      "Manhattan        17360\n",
      "Brooklyn         16074\n",
      "Queens            4511\n",
      "Bronx              874\n",
      "Staten Island      297\n"
     ]
    }
   ],
   "source": [
    "# neighbourhood group is also badly distribuited, yet it is kinda better\n",
    "print(df_orig.neighbourhood_group.value_counts().to_string())"
   ]
  },
  {
   "cell_type": "code",
   "execution_count": 6,
   "id": "ab7fe6cd",
   "metadata": {},
   "outputs": [
    {
     "name": "stderr",
     "output_type": "stream",
     "text": [
      "C:\\Users\\User\\AppData\\Local\\Temp\\ipykernel_20924\\1642389334.py:2: FutureWarning: The default value of numeric_only in DataFrameGroupBy.mean is deprecated. In a future version, numeric_only will default to False. Either specify numeric_only or select only columns which should be valid for the function.\n",
      "  df_orig.groupby(\"neighbourhood_group\").mean().price\n"
     ]
    },
    {
     "data": {
      "text/plain": [
       "neighbourhood_group\n",
       "Bronx             88.097254\n",
       "Brooklyn         125.617706\n",
       "Manhattan        196.751555\n",
       "Queens           100.479716\n",
       "Staten Island    119.936027\n",
       "Name: price, dtype: float64"
      ]
     },
     "execution_count": 6,
     "metadata": {},
     "output_type": "execute_result"
    }
   ],
   "source": [
    "# Conclusion: since they are the same information (and it obviously significative) it is better to keep only neighboorhood group\n",
    "df_orig.groupby(\"neighbourhood_group\").mean().price"
   ]
  },
  {
   "cell_type": "markdown",
   "id": "4d4d999b",
   "metadata": {},
   "source": [
    "### Other\n"
   ]
  },
  {
   "cell_type": "code",
   "execution_count": 7,
   "id": "9e8effaf",
   "metadata": {},
   "outputs": [
    {
     "name": "stderr",
     "output_type": "stream",
     "text": [
      "C:\\Users\\User\\AppData\\Local\\Temp\\ipykernel_20924\\3259224742.py:2: FutureWarning: The default value of numeric_only in DataFrame.corr is deprecated. In a future version, it will default to False. Select only valid columns or specify the value of numeric_only to silence this warning.\n",
      "  sns.heatmap(df_orig.corr())\n"
     ]
    },
    {
     "data": {
      "text/plain": [
       "<AxesSubplot: >"
      ]
     },
     "execution_count": 7,
     "metadata": {},
     "output_type": "execute_result"
    },
    {
     "data": {
      "image/png": "[encoded data removed]",
      "text/plain": [
       "<Figure size 640x480 with 2 Axes>"
      ]
     },
     "metadata": {},
     "output_type": "display_data"
    }
   ],
   "source": [
    "# Reviews per month and number of reviews kinda correlated: better keep just one\n",
    "sns.heatmap(df_orig.corr())"
   ]
  },
  {
   "cell_type": "code",
   "execution_count": 30,
   "id": "080ef69e",
   "metadata": {},
   "outputs": [
    {
     "data": {
      "text/plain": [
       "<AxesSubplot: >"
      ]
     },
     "execution_count": 30,
     "metadata": {},
     "output_type": "execute_result"
    },
    {
     "data": {
      "image/png": "[encoded data removed]",
      "text/plain": [
       "<Figure size 640x480 with 1 Axes>"
      ]
     },
     "metadata": {},
     "output_type": "display_data"
    }
   ],
   "source": [
    "df_orig.price[df_orig.price < 2000].hist(bins=70)"
   ]
  },
  {
   "cell_type": "code",
   "execution_count": 33,
   "id": "1d05364b",
   "metadata": {},
   "outputs": [
    {
     "data": {
      "text/plain": [
       "<AxesSubplot: >"
      ]
     },
     "execution_count": 33,
     "metadata": {},
     "output_type": "execute_result"
    },
    {
     "data": {
      "image/png": "[encoded data removed]",
      "text/plain": [
       "<Figure size 640x480 with 1 Axes>"
      ]
     },
     "metadata": {},
     "output_type": "display_data"
    }
   ],
   "source": [
    "# Log translates it to a normal distribution, so maybe it is more predictable for the model\n",
    "logg = np.log(df_orig.price[df_orig.price > 0])\n",
    "logg.hist(bins=25)"
   ]
  },
  {
   "cell_type": "markdown",
   "id": "02db034b",
   "metadata": {},
   "source": [
    "# Outlier \n"
   ]
  },
  {
   "cell_type": "code",
   "execution_count": 10,
   "id": "c5bdb2ef",
   "metadata": {},
   "outputs": [],
   "source": [
    "df_outliers = df_orig.drop([\"id\",\"name\",\"host_id\",\"host_name\", #ID columns, useless for regressiong\n",
    "                               \"neighbourhood\", # We only keep neighbourhood_groups\n",
    "                               \"last_review\", # Kinda useless\n",
    "                               \"latitude\", # Way too specific\n",
    "                               \"longitude\", # Way too specific\n",
    "                                \"reviews_per_month\" # We only keep number_of_reviews\n",
    "                              ], axis=1)"
   ]
  },
  {
   "cell_type": "code",
   "execution_count": 11,
   "id": "d66ee32c",
   "metadata": {},
   "outputs": [
    {
     "name": "stdout",
     "output_type": "stream",
     "text": [
      "Shape before:  (39116, 7)\n",
      "Shape after:  (38607, 7)\n",
      "neighbourhood_group               0\n",
      "room_type                         0\n",
      "price                             0\n",
      "minimum_nights                    0\n",
      "number_of_reviews                 0\n",
      "calculated_host_listings_count    0\n",
      "availability_365                  0\n"
     ]
    },
    {
     "name": "stderr",
     "output_type": "stream",
     "text": [
      "C:\\Users\\User\\jupytervenv\\lib\\site-packages\\pandas\\core\\arraylike.py:402: RuntimeWarning: divide by zero encountered in log\n",
      "  result = getattr(ufunc, method)(*inputs, **kwargs)\n",
      "C:\\Users\\User\\AppData\\Local\\Temp\\ipykernel_20924\\3359453701.py:15: SettingWithCopyWarning: \n",
      "A value is trying to be set on a copy of a slice from a DataFrame.\n",
      "Try using .loc[row_indexer,col_indexer] = value instead\n",
      "\n",
      "See the caveats in the documentation: https://pandas.pydata.org/pandas-docs/stable/user_guide/indexing.html#returning-a-view-versus-a-copy\n",
      "  df.price = np.exp(df.price)\n"
     ]
    },
    {
     "data": {
      "image/png": "[encoded data removed]",
      "text/plain": [
       "<Figure size 640x480 with 1 Axes>"
      ]
     },
     "metadata": {},
     "output_type": "display_data"
    }
   ],
   "source": [
    "# # Boxplot outiler extraction\n",
    "df_outliers.price = np.log(df_outliers.price)\n",
    "q25 = df_outliers.price.quantile(0.25)\n",
    "q75 = df_outliers.price.quantile(0.75)\n",
    "IQR = q75-q25\n",
    "df_outliers.price.plot.box()\n",
    "\n",
    "print(\"Shape before: \", df_outliers.shape)\n",
    "df = df_outliers[(df_outliers.price > q25-1.5*IQR) & (df_outliers.price < q75+1.5*IQR)]\n",
    "      \n",
    "print(\"Shape after: \", df.shape)\n",
    "\n",
    "print(df.isna().sum().to_string())\n",
    "\n",
    "df.price = np.exp(df.price)"
   ]
  },
  {
   "cell_type": "code",
   "execution_count": 12,
   "id": "6ad90bac",
   "metadata": {},
   "outputs": [
    {
     "name": "stdout",
     "output_type": "stream",
     "text": [
      "(38607, 7)\n",
      "(38607, 7)\n"
     ]
    }
   ],
   "source": [
    "# Also delete everything that has price =0 (not relevant data)\n",
    "print (df.shape)\n",
    "df = df[df.price > 0] # Ten of them had price =0\n",
    "print(df.shape)\n",
    "# Ten of them had price =0"
   ]
  },
  {
   "cell_type": "markdown",
   "id": "8e3c5b45",
   "metadata": {},
   "source": [
    "# Preprocessing"
   ]
  },
  {
   "cell_type": "code",
   "execution_count": 13,
   "id": "9151af22",
   "metadata": {},
   "outputs": [],
   "source": [
    "from sklearn.preprocessing import OneHotEncoder\n",
    "\n",
    "roomtype = pd.DataFrame(df[\"room_type\"])\n",
    "ohe_rt = OneHotEncoder(sparse=False, dtype=int)\n",
    "\n",
    "transformed = ohe_rt.fit_transform(roomtype)\n",
    "rt_df = pd.DataFrame(transformed, index=df.index, columns=ohe_rt.get_feature_names_out())\n",
    "df = pd.concat([df, rt_df], axis=1).drop(\"room_type\", axis=1)"
   ]
  },
  {
   "cell_type": "code",
   "execution_count": 14,
   "id": "b2e76699",
   "metadata": {},
   "outputs": [],
   "source": [
    "nbg = pd.DataFrame(df[\"neighbourhood_group\"])\n",
    "ohe_nbg = OneHotEncoder(sparse=False, dtype=int)\n",
    "transformed = ohe_nbg.fit_transform(nbg)\n",
    "nbg_df = pd.DataFrame(transformed, index=df.index, columns=ohe_nbg.get_feature_names_out())\n",
    "df = pd.concat([df, nbg_df], axis=1).drop(\"neighbourhood_group\", axis=1)\n"
   ]
  },
  {
   "cell_type": "code",
   "execution_count": 15,
   "id": "f8bb4c44",
   "metadata": {},
   "outputs": [],
   "source": [
    "# Go to logarithmic\n",
    "# df.price = np.log(df.price)"
   ]
  },
  {
   "cell_type": "code",
   "execution_count": 16,
   "id": "1ac78d24",
   "metadata": {},
   "outputs": [
    {
     "data": {
      "text/html": [
       "<div>\n",
       "<style scoped>\n",
       "    .dataframe tbody tr th:only-of-type {\n",
       "        vertical-align: middle;\n",
       "    }\n",
       "\n",
       "    .dataframe tbody tr th {\n",
       "        vertical-align: top;\n",
       "    }\n",
       "\n",
       "    .dataframe thead th {\n",
       "        text-align: right;\n",
       "    }\n",
       "</style>\n",
       "<table border=\"1\" class=\"dataframe\">\n",
       "  <thead>\n",
       "    <tr style=\"text-align: right;\">\n",
       "      <th></th>\n",
       "      <th>price</th>\n",
       "      <th>minimum_nights</th>\n",
       "      <th>number_of_reviews</th>\n",
       "      <th>calculated_host_listings_count</th>\n",
       "      <th>availability_365</th>\n",
       "      <th>room_type_Entire home/apt</th>\n",
       "      <th>room_type_Private room</th>\n",
       "      <th>room_type_Shared room</th>\n",
       "      <th>neighbourhood_group_Bronx</th>\n",
       "      <th>neighbourhood_group_Brooklyn</th>\n",
       "      <th>neighbourhood_group_Manhattan</th>\n",
       "      <th>neighbourhood_group_Queens</th>\n",
       "      <th>neighbourhood_group_Staten Island</th>\n",
       "    </tr>\n",
       "  </thead>\n",
       "  <tbody>\n",
       "    <tr>\n",
       "      <th>0</th>\n",
       "      <td>75.0</td>\n",
       "      <td>1</td>\n",
       "      <td>2</td>\n",
       "      <td>3</td>\n",
       "      <td>351</td>\n",
       "      <td>0</td>\n",
       "      <td>1</td>\n",
       "      <td>0</td>\n",
       "      <td>0</td>\n",
       "      <td>0</td>\n",
       "      <td>0</td>\n",
       "      <td>1</td>\n",
       "      <td>0</td>\n",
       "    </tr>\n",
       "    <tr>\n",
       "      <th>1</th>\n",
       "      <td>95.0</td>\n",
       "      <td>1</td>\n",
       "      <td>202</td>\n",
       "      <td>2</td>\n",
       "      <td>263</td>\n",
       "      <td>0</td>\n",
       "      <td>1</td>\n",
       "      <td>0</td>\n",
       "      <td>0</td>\n",
       "      <td>0</td>\n",
       "      <td>1</td>\n",
       "      <td>0</td>\n",
       "      <td>0</td>\n",
       "    </tr>\n",
       "    <tr>\n",
       "      <th>2</th>\n",
       "      <td>130.0</td>\n",
       "      <td>2</td>\n",
       "      <td>0</td>\n",
       "      <td>1</td>\n",
       "      <td>0</td>\n",
       "      <td>1</td>\n",
       "      <td>0</td>\n",
       "      <td>0</td>\n",
       "      <td>0</td>\n",
       "      <td>0</td>\n",
       "      <td>1</td>\n",
       "      <td>0</td>\n",
       "      <td>0</td>\n",
       "    </tr>\n",
       "    <tr>\n",
       "      <th>3</th>\n",
       "      <td>150.0</td>\n",
       "      <td>2</td>\n",
       "      <td>4</td>\n",
       "      <td>1</td>\n",
       "      <td>89</td>\n",
       "      <td>1</td>\n",
       "      <td>0</td>\n",
       "      <td>0</td>\n",
       "      <td>0</td>\n",
       "      <td>1</td>\n",
       "      <td>0</td>\n",
       "      <td>0</td>\n",
       "      <td>0</td>\n",
       "    </tr>\n",
       "    <tr>\n",
       "      <th>4</th>\n",
       "      <td>325.0</td>\n",
       "      <td>3</td>\n",
       "      <td>16</td>\n",
       "      <td>1</td>\n",
       "      <td>103</td>\n",
       "      <td>1</td>\n",
       "      <td>0</td>\n",
       "      <td>0</td>\n",
       "      <td>0</td>\n",
       "      <td>1</td>\n",
       "      <td>0</td>\n",
       "      <td>0</td>\n",
       "      <td>0</td>\n",
       "    </tr>\n",
       "  </tbody>\n",
       "</table>\n",
       "</div>"
      ],
      "text/plain": [
       "   price  minimum_nights  number_of_reviews  calculated_host_listings_count  \\\n",
       "0   75.0               1                  2                               3   \n",
       "1   95.0               1                202                               2   \n",
       "2  130.0               2                  0                               1   \n",
       "3  150.0               2                  4                               1   \n",
       "4  325.0               3                 16                               1   \n",
       "\n",
       "   availability_365  room_type_Entire home/apt  room_type_Private room  \\\n",
       "0               351                          0                       1   \n",
       "1               263                          0                       1   \n",
       "2                 0                          1                       0   \n",
       "3                89                          1                       0   \n",
       "4               103                          1                       0   \n",
       "\n",
       "   room_type_Shared room  neighbourhood_group_Bronx  \\\n",
       "0                      0                          0   \n",
       "1                      0                          0   \n",
       "2                      0                          0   \n",
       "3                      0                          0   \n",
       "4                      0                          0   \n",
       "\n",
       "   neighbourhood_group_Brooklyn  neighbourhood_group_Manhattan  \\\n",
       "0                             0                              0   \n",
       "1                             0                              1   \n",
       "2                             0                              1   \n",
       "3                             1                              0   \n",
       "4                             1                              0   \n",
       "\n",
       "   neighbourhood_group_Queens  neighbourhood_group_Staten Island  \n",
       "0                           1                                  0  \n",
       "1                           0                                  0  \n",
       "2                           0                                  0  \n",
       "3                           0                                  0  \n",
       "4                           0                                  0  "
      ]
     },
     "execution_count": 16,
     "metadata": {},
     "output_type": "execute_result"
    }
   ],
   "source": [
    "df.head()"
   ]
  },
  {
   "cell_type": "markdown",
   "id": "41c8e63d",
   "metadata": {},
   "source": [
    "# Model development\n"
   ]
  },
  {
   "cell_type": "code",
   "execution_count": 17,
   "id": "f43b6867",
   "metadata": {},
   "outputs": [],
   "source": [
    "y = df.price\n",
    "X = df.drop(\"price\", axis=1)"
   ]
  },
  {
   "cell_type": "code",
   "execution_count": 18,
   "id": "b0edd0f7",
   "metadata": {},
   "outputs": [],
   "source": [
    "from sklearn.linear_model import LinearRegression, Ridge, Lasso\n",
    "from sklearn.model_selection import train_test_split\n",
    "from sklearn.metrics import mean_squared_error, r2_score\n",
    "from sklearn.pipeline import make_pipeline\n",
    "from sklearn.preprocessing import FunctionTransformer\n",
    "from sklearn.neural_network import MLPRegressor\n",
    "from sklearn.svm import SVR\n",
    "from sklearn.ensemble import RandomForestRegressor\n",
    "from sklearn.preprocessing import FunctionTransformer, PolynomialFeatures\n",
    "from sklearn.pipeline import make_pipeline"
   ]
  },
  {
   "cell_type": "code",
   "execution_count": 19,
   "id": "05c876bf",
   "metadata": {},
   "outputs": [],
   "source": [
    "def evaluate_model(X, y, model, model_name):\n",
    "    X_train, X_test, y_train, y_test = train_test_split(X, y, test_size=0.30)\n",
    "    y_train = np.log(y_train)\n",
    "    \n",
    "    # predict the test points\n",
    "    model.fit(X_train, y_train)\n",
    "    y_hat = model.predict(X_test)\n",
    "    y_hat = np.exp(y_hat)\n",
    "    \n",
    "    return mean_squared_error(y_test, y_hat), r2_score(y_test, y_hat)"
   ]
  },
  {
   "cell_type": "code",
   "execution_count": 20,
   "id": "463f2a26",
   "metadata": {},
   "outputs": [],
   "source": [
    "models = [\n",
    "    LinearRegression(),\n",
    "    Ridge(random_state=42),\n",
    "    MLPRegressor(hidden_layer_sizes=(10,), random_state=42, max_iter=10000),\n",
    "    MLPRegressor(hidden_layer_sizes=(10,10),  activation='tanh', solver='lbfgs',\n",
    "                 alpha=0.000, batch_size='auto', learning_rate='constant',\n",
    "                 learning_rate_init=0.01, power_t=0.5, max_iter=10000, shuffle=True,\n",
    "                 random_state=42, tol=0.0001, verbose=True, warm_start=False,\n",
    "                 momentum=0.0, nesterovs_momentum=False, early_stopping=False,\n",
    "                 validation_fraction=0.0, beta_1=0.9, beta_2=0.999, epsilon=1e-08),\n",
    "    SVR(gamma='scale'),\n",
    "    RandomForestRegressor(n_estimators=300)\n",
    "]\n",
    "names = [\n",
    "    'linreg',\n",
    "    'ridge',\n",
    "    'mlp_standard',\n",
    "    'mlp_tuned',\n",
    "    'svr',\n",
    "    'rf']"
   ]
  },
  {
   "cell_type": "code",
   "execution_count": 21,
   "id": "3d57c205",
   "metadata": {},
   "outputs": [
    {
     "name": "stdout",
     "output_type": "stream",
     "text": [
      "......\n",
      "+--------------+--------------------+---------------------+\n",
      "|    model     |        MSE         |          R2         |\n",
      "+--------------+--------------------+---------------------+\n",
      "|    linreg    | 6839.360991136732  | 0.33160522716355467 |\n",
      "|    ridge     | 6683.706847119099  | 0.33634407451084003 |\n",
      "| mlp_standard | 379723.80489078374 |  -36.56438909808629 |\n",
      "|  mlp_tuned   | 6635.9073706292265 | 0.34510039614544197 |\n",
      "|     svr      | 8883.377312477249  |  0.1314471711051559 |\n",
      "|      rf      |  6251.17864766877  |  0.3780340854234304 |\n",
      "+--------------+--------------------+---------------------+\n"
     ]
    }
   ],
   "source": [
    "from prettytable import PrettyTable\n",
    "\n",
    "t = PrettyTable()\n",
    "t.field_names = ['model', 'MSE', 'R2']\n",
    "\n",
    "for model, name in zip(models, names):\n",
    "    print(\".\", end=\"\")\n",
    "    mse, r2 = evaluate_model(X, y, model, name)\n",
    "    t.add_row([name, mse, r2])\n",
    "    \n",
    "print()\n",
    "\n",
    "print(t)"
   ]
  },
  {
   "cell_type": "code",
   "execution_count": 23,
   "id": "ff9a5929",
   "metadata": {},
   "outputs": [
    {
     "data": {
      "text/html": [
       "<style>#sk-container-id-1 {color: black;background-color: white;}#sk-container-id-1 pre{padding: 0;}#sk-container-id-1 div.sk-toggleable {background-color: white;}#sk-container-id-1 label.sk-toggleable__label {cursor: pointer;display: block;width: 100%;margin-bottom: 0;padding: 0.3em;box-sizing: border-box;text-align: center;}#sk-container-id-1 label.sk-toggleable__label-arrow:before {content: \"▸\";float: left;margin-right: 0.25em;color: #696969;}#sk-container-id-1 label.sk-toggleable__label-arrow:hover:before {color: black;}#sk-container-id-1 div.sk-estimator:hover label.sk-toggleable__label-arrow:before {color: black;}#sk-container-id-1 div.sk-toggleable__content {max-height: 0;max-width: 0;overflow: hidden;text-align: left;background-color: #f0f8ff;}#sk-container-id-1 div.sk-toggleable__content pre {margin: 0.2em;color: black;border-radius: 0.25em;background-color: #f0f8ff;}#sk-container-id-1 input.sk-toggleable__control:checked~div.sk-toggleable__content {max-height: 200px;max-width: 100%;overflow: auto;}#sk-container-id-1 input.sk-toggleable__control:checked~label.sk-toggleable__label-arrow:before {content: \"▾\";}#sk-container-id-1 div.sk-estimator input.sk-toggleable__control:checked~label.sk-toggleable__label {background-color: #d4ebff;}#sk-container-id-1 div.sk-label input.sk-toggleable__control:checked~label.sk-toggleable__label {background-color: #d4ebff;}#sk-container-id-1 input.sk-hidden--visually {border: 0;clip: rect(1px 1px 1px 1px);clip: rect(1px, 1px, 1px, 1px);height: 1px;margin: -1px;overflow: hidden;padding: 0;position: absolute;width: 1px;}#sk-container-id-1 div.sk-estimator {font-family: monospace;background-color: #f0f8ff;border: 1px dotted black;border-radius: 0.25em;box-sizing: border-box;margin-bottom: 0.5em;}#sk-container-id-1 div.sk-estimator:hover {background-color: #d4ebff;}#sk-container-id-1 div.sk-parallel-item::after {content: \"\";width: 100%;border-bottom: 1px solid gray;flex-grow: 1;}#sk-container-id-1 div.sk-label:hover label.sk-toggleable__label {background-color: #d4ebff;}#sk-container-id-1 div.sk-serial::before {content: \"\";position: absolute;border-left: 1px solid gray;box-sizing: border-box;top: 0;bottom: 0;left: 50%;z-index: 0;}#sk-container-id-1 div.sk-serial {display: flex;flex-direction: column;align-items: center;background-color: white;padding-right: 0.2em;padding-left: 0.2em;position: relative;}#sk-container-id-1 div.sk-item {position: relative;z-index: 1;}#sk-container-id-1 div.sk-parallel {display: flex;align-items: stretch;justify-content: center;background-color: white;position: relative;}#sk-container-id-1 div.sk-item::before, #sk-container-id-1 div.sk-parallel-item::before {content: \"\";position: absolute;border-left: 1px solid gray;box-sizing: border-box;top: 0;bottom: 0;left: 50%;z-index: -1;}#sk-container-id-1 div.sk-parallel-item {display: flex;flex-direction: column;z-index: 1;position: relative;background-color: white;}#sk-container-id-1 div.sk-parallel-item:first-child::after {align-self: flex-end;width: 50%;}#sk-container-id-1 div.sk-parallel-item:last-child::after {align-self: flex-start;width: 50%;}#sk-container-id-1 div.sk-parallel-item:only-child::after {width: 0;}#sk-container-id-1 div.sk-dashed-wrapped {border: 1px dashed gray;margin: 0 0.4em 0.5em 0.4em;box-sizing: border-box;padding-bottom: 0.4em;background-color: white;}#sk-container-id-1 div.sk-label label {font-family: monospace;font-weight: bold;display: inline-block;line-height: 1.2em;}#sk-container-id-1 div.sk-label-container {text-align: center;}#sk-container-id-1 div.sk-container {/* jupyter's `normalize.less` sets `[hidden] { display: none; }` but bootstrap.min.css set `[hidden] { display: none !important; }` so we also need the `!important` here to be able to override the default hidden behavior on the sphinx rendered scikit-learn.org. See: https://github.com/scikit-learn/scikit-learn/issues/21755 */display: inline-block !important;position: relative;}#sk-container-id-1 div.sk-text-repr-fallback {display: none;}</style><div id=\"sk-container-id-1\" class=\"sk-top-container\"><div class=\"sk-text-repr-fallback\"><pre>RandomForestRegressor(n_estimators=300)</pre><b>In a Jupyter environment, please rerun this cell to show the HTML representation or trust the notebook. <br />On GitHub, the HTML representation is unable to render, please try loading this page with nbviewer.org.</b></div><div class=\"sk-container\" hidden><div class=\"sk-item\"><div class=\"sk-estimator sk-toggleable\"><input class=\"sk-toggleable__control sk-hidden--visually\" id=\"sk-estimator-id-1\" type=\"checkbox\" checked><label for=\"sk-estimator-id-1\" class=\"sk-toggleable__label sk-toggleable__label-arrow\">RandomForestRegressor</label><div class=\"sk-toggleable__content\"><pre>RandomForestRegressor(n_estimators=300)</pre></div></div></div></div></div>"
      ],
      "text/plain": [
       "RandomForestRegressor(n_estimators=300)"
      ]
     },
     "execution_count": 23,
     "metadata": {},
     "output_type": "execute_result"
    }
   ],
   "source": [
    "my_model=RandomForestRegressor(n_estimators=300)\n",
    "y_log = np.log(y)\n",
    "my_model.fit(X,y_log)"
   ]
  },
  {
   "cell_type": "markdown",
   "id": "363d8aba",
   "metadata": {},
   "source": [
    "# Try on the evaluation DF\n"
   ]
  },
  {
   "cell_type": "code",
   "execution_count": 22,
   "id": "720edd1f",
   "metadata": {},
   "outputs": [
    {
     "ename": "Exception",
     "evalue": "Stop",
     "output_type": "error",
     "traceback": [
      "\u001b[1;31m---------------------------------------------------------------------------\u001b[0m",
      "\u001b[1;31mException\u001b[0m                                 Traceback (most recent call last)",
      "Cell \u001b[1;32mIn [22], line 1\u001b[0m\n\u001b[1;32m----> 1\u001b[0m \u001b[38;5;28;01mraise\u001b[39;00m \u001b[38;5;167;01mException\u001b[39;00m(\u001b[38;5;124m\"\u001b[39m\u001b[38;5;124mStop\u001b[39m\u001b[38;5;124m\"\u001b[39m)\n\u001b[0;32m      2\u001b[0m df_eval \u001b[38;5;241m=\u001b[39m pd\u001b[38;5;241m.\u001b[39mread_csv(\u001b[38;5;124m\"\u001b[39m\u001b[38;5;124mNYC_Airbnb/evaluation.csv\u001b[39m\u001b[38;5;124m\"\u001b[39m)\n\u001b[0;32m      3\u001b[0m df_eval\u001b[38;5;241m.\u001b[39mshape\n",
      "\u001b[1;31mException\u001b[0m: Stop"
     ]
    }
   ],
   "source": [
    "raise Exception(\"Stop\")\n",
    "df_eval = pd.read_csv(\"NYC_Airbnb/evaluation.csv\")\n",
    "df_eval.shape"
   ]
  },
  {
   "cell_type": "code",
   "execution_count": null,
   "id": "1308819b",
   "metadata": {},
   "outputs": [],
   "source": [
    "df = df_eval.drop([\"id\",\"name\",\"host_id\",\"host_name\", #ID columns, useless for regressiong\n",
    "                               \"neighbourhood\", # We only keep neighbourhood_groups\n",
    "                               \"last_review\", # Kinda useless\n",
    "                               \"latitude\", # Way too specific\n",
    "                               \"longitude\", # Way too specific\n",
    "                                \"reviews_per_month\" # We only keep number_of_reviews\n",
    "                              ], axis=1)"
   ]
  },
  {
   "cell_type": "code",
   "execution_count": null,
   "id": "b536363b",
   "metadata": {},
   "outputs": [],
   "source": [
    "from sklearn.preprocessing import OneHotEncoder\n",
    "\n",
    "roomtype = pd.DataFrame(df[\"room_type\"])\n",
    "ohe_rt = OneHotEncoder(sparse=False, dtype=int)\n",
    "transformed = ohe_rt.fit_transform(roomtype)\n",
    "rt_df = pd.DataFrame(transformed, index=df.index, columns=ohe_rt.get_feature_names_out())\n",
    "df = pd.concat([df, rt_df], axis=1).drop(\"room_type\", axis=1)\n",
    "\n",
    "nbg = pd.DataFrame(df[\"neighbourhood_group\"])\n",
    "ohe_nbg = OneHotEncoder(sparse=False, dtype=int)\n",
    "transformed = ohe_nbg.fit_transform(nbg)\n",
    "nbg_df = pd.DataFrame(transformed, index=df.index, columns=ohe_nbg.get_feature_names_out())\n",
    "df = pd.concat([df, nbg_df], axis=1).drop(\"neighbourhood_group\", axis=1)\n",
    "\n",
    "df.shape"
   ]
  },
  {
   "cell_type": "code",
   "execution_count": null,
   "id": "fffe82eb",
   "metadata": {},
   "outputs": [],
   "source": [
    "pred = my_model.predict(df)\n",
    "pred_df = pd.DataFrame(pred)\n",
    "pred_df.columns = [\"Predicted\"]\n",
    "pred_df.to_csv(\"result.csv\",header=True, index=True, index_label=\"Id\")"
   ]
  }
 ],
 "metadata": {
  "kernelspec": {
   "display_name": "Python 3 (ipykernel)",
   "language": "python",
   "name": "python3"
  },
  "language_info": {
   "codemirror_mode": {
    "name": "ipython",
    "version": 3
   },
   "file_extension": ".py",
   "mimetype": "text/x-python",
   "name": "python",
   "nbconvert_exporter": "python",
   "pygments_lexer": "ipython3",
   "version": "3.10.4"
  }
 },
 "nbformat": 4,
 "nbformat_minor": 5
}
