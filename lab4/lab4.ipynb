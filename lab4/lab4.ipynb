{
 "cells": [
  {
   "cell_type": "code",
   "execution_count": 1,
   "id": "08261e10",
   "metadata": {},
   "outputs": [],
   "source": [
    "#!pip install pandas\n",
    "import pandas as pd\n",
    "import numpy as np\n",
    "import random"
   ]
  },
  {
   "cell_type": "code",
   "execution_count": 2,
   "id": "65d2efa0",
   "metadata": {},
   "outputs": [
    {
     "data": {
      "text/html": [
       "<div>\n",
       "<style scoped>\n",
       "    .dataframe tbody tr th:only-of-type {\n",
       "        vertical-align: middle;\n",
       "    }\n",
       "\n",
       "    .dataframe tbody tr th {\n",
       "        vertical-align: top;\n",
       "    }\n",
       "\n",
       "    .dataframe thead th {\n",
       "        text-align: right;\n",
       "    }\n",
       "</style>\n",
       "<table border=\"1\" class=\"dataframe\">\n",
       "  <thead>\n",
       "    <tr style=\"text-align: right;\">\n",
       "      <th></th>\n",
       "      <th>0</th>\n",
       "      <th>1</th>\n",
       "      <th>2</th>\n",
       "      <th>3</th>\n",
       "      <th>4</th>\n",
       "      <th>5</th>\n",
       "      <th>6</th>\n",
       "      <th>7</th>\n",
       "      <th>8</th>\n",
       "      <th>9</th>\n",
       "      <th>...</th>\n",
       "      <th>775</th>\n",
       "      <th>776</th>\n",
       "      <th>777</th>\n",
       "      <th>778</th>\n",
       "      <th>779</th>\n",
       "      <th>780</th>\n",
       "      <th>781</th>\n",
       "      <th>782</th>\n",
       "      <th>783</th>\n",
       "      <th>784</th>\n",
       "    </tr>\n",
       "  </thead>\n",
       "  <tbody>\n",
       "    <tr>\n",
       "      <th>0</th>\n",
       "      <td>7</td>\n",
       "      <td>0</td>\n",
       "      <td>0</td>\n",
       "      <td>0</td>\n",
       "      <td>0</td>\n",
       "      <td>0</td>\n",
       "      <td>0</td>\n",
       "      <td>0</td>\n",
       "      <td>0</td>\n",
       "      <td>0</td>\n",
       "      <td>...</td>\n",
       "      <td>0</td>\n",
       "      <td>0</td>\n",
       "      <td>0</td>\n",
       "      <td>0</td>\n",
       "      <td>0</td>\n",
       "      <td>0</td>\n",
       "      <td>0</td>\n",
       "      <td>0</td>\n",
       "      <td>0</td>\n",
       "      <td>0</td>\n",
       "    </tr>\n",
       "    <tr>\n",
       "      <th>1</th>\n",
       "      <td>2</td>\n",
       "      <td>0</td>\n",
       "      <td>0</td>\n",
       "      <td>0</td>\n",
       "      <td>0</td>\n",
       "      <td>0</td>\n",
       "      <td>0</td>\n",
       "      <td>0</td>\n",
       "      <td>0</td>\n",
       "      <td>0</td>\n",
       "      <td>...</td>\n",
       "      <td>0</td>\n",
       "      <td>0</td>\n",
       "      <td>0</td>\n",
       "      <td>0</td>\n",
       "      <td>0</td>\n",
       "      <td>0</td>\n",
       "      <td>0</td>\n",
       "      <td>0</td>\n",
       "      <td>0</td>\n",
       "      <td>0</td>\n",
       "    </tr>\n",
       "    <tr>\n",
       "      <th>2</th>\n",
       "      <td>1</td>\n",
       "      <td>0</td>\n",
       "      <td>0</td>\n",
       "      <td>0</td>\n",
       "      <td>0</td>\n",
       "      <td>0</td>\n",
       "      <td>0</td>\n",
       "      <td>0</td>\n",
       "      <td>0</td>\n",
       "      <td>0</td>\n",
       "      <td>...</td>\n",
       "      <td>0</td>\n",
       "      <td>0</td>\n",
       "      <td>0</td>\n",
       "      <td>0</td>\n",
       "      <td>0</td>\n",
       "      <td>0</td>\n",
       "      <td>0</td>\n",
       "      <td>0</td>\n",
       "      <td>0</td>\n",
       "      <td>0</td>\n",
       "    </tr>\n",
       "    <tr>\n",
       "      <th>3</th>\n",
       "      <td>0</td>\n",
       "      <td>0</td>\n",
       "      <td>0</td>\n",
       "      <td>0</td>\n",
       "      <td>0</td>\n",
       "      <td>0</td>\n",
       "      <td>0</td>\n",
       "      <td>0</td>\n",
       "      <td>0</td>\n",
       "      <td>0</td>\n",
       "      <td>...</td>\n",
       "      <td>0</td>\n",
       "      <td>0</td>\n",
       "      <td>0</td>\n",
       "      <td>0</td>\n",
       "      <td>0</td>\n",
       "      <td>0</td>\n",
       "      <td>0</td>\n",
       "      <td>0</td>\n",
       "      <td>0</td>\n",
       "      <td>0</td>\n",
       "    </tr>\n",
       "    <tr>\n",
       "      <th>4</th>\n",
       "      <td>4</td>\n",
       "      <td>0</td>\n",
       "      <td>0</td>\n",
       "      <td>0</td>\n",
       "      <td>0</td>\n",
       "      <td>0</td>\n",
       "      <td>0</td>\n",
       "      <td>0</td>\n",
       "      <td>0</td>\n",
       "      <td>0</td>\n",
       "      <td>...</td>\n",
       "      <td>0</td>\n",
       "      <td>0</td>\n",
       "      <td>0</td>\n",
       "      <td>0</td>\n",
       "      <td>0</td>\n",
       "      <td>0</td>\n",
       "      <td>0</td>\n",
       "      <td>0</td>\n",
       "      <td>0</td>\n",
       "      <td>0</td>\n",
       "    </tr>\n",
       "  </tbody>\n",
       "</table>\n",
       "<p>5 rows × 785 columns</p>\n",
       "</div>"
      ],
      "text/plain": [
       "   0    1    2    3    4    5    6    7    8    9    ...  775  776  777  778  \\\n",
       "0    7    0    0    0    0    0    0    0    0    0  ...    0    0    0    0   \n",
       "1    2    0    0    0    0    0    0    0    0    0  ...    0    0    0    0   \n",
       "2    1    0    0    0    0    0    0    0    0    0  ...    0    0    0    0   \n",
       "3    0    0    0    0    0    0    0    0    0    0  ...    0    0    0    0   \n",
       "4    4    0    0    0    0    0    0    0    0    0  ...    0    0    0    0   \n",
       "\n",
       "   779  780  781  782  783  784  \n",
       "0    0    0    0    0    0    0  \n",
       "1    0    0    0    0    0    0  \n",
       "2    0    0    0    0    0    0  \n",
       "3    0    0    0    0    0    0  \n",
       "4    0    0    0    0    0    0  \n",
       "\n",
       "[5 rows x 785 columns]"
      ]
     },
     "execution_count": 2,
     "metadata": {},
     "output_type": "execute_result"
    }
   ],
   "source": [
    "filename = \"mnist_test.csv\"\n",
    "df = pd.read_csv(filename, header=None)\n",
    "if filename == \"mnist_test.csv\":\n",
    "    df_column_y = 0\n",
    "    df = df.iloc[:200]\n",
    "    \n",
    "elif filename == \"iris.csv\":\n",
    "    df_column_y = 4\n",
    "df.head()\n"
   ]
  },
  {
   "cell_type": "markdown",
   "id": "833bef63",
   "metadata": {},
   "source": [
    "## Get 20% of dataframe as test"
   ]
  },
  {
   "cell_type": "code",
   "execution_count": 3,
   "id": "4b4584c8",
   "metadata": {},
   "outputs": [],
   "source": [
    "X_test_size = int(df.shape[0] * 0.2)\n",
    "X_i = set()\n",
    "while len(X_i) != X_test_size:\n",
    "    X_i.add(random.randint(0, df.shape[0]-1))\n",
    "X_i = list(X_i)"
   ]
  },
  {
   "cell_type": "code",
   "execution_count": 4,
   "id": "ce278baa",
   "metadata": {},
   "outputs": [],
   "source": [
    "df_test = df.iloc[X_i]\n",
    "X_test = np.array(df_test.drop(df_column_y, axis=1))\n",
    "y_test = np.array(df_test[df_column_y])"
   ]
  },
  {
   "cell_type": "markdown",
   "id": "83b72a53",
   "metadata": {},
   "source": [
    "## Get the remaining train dataframe"
   ]
  },
  {
   "cell_type": "code",
   "execution_count": 5,
   "id": "2480803b",
   "metadata": {},
   "outputs": [
    {
     "data": {
      "text/plain": [
       "(160, 784)"
      ]
     },
     "execution_count": 5,
     "metadata": {},
     "output_type": "execute_result"
    }
   ],
   "source": [
    "df_train = df.drop(X_i)\n",
    "X_train = np.array(df_train.drop(df_column_y, axis=1))\n",
    "y_train = np.array(df_train[df_column_y])\n",
    "X_train.shape"
   ]
  },
  {
   "cell_type": "markdown",
   "id": "31728ed1",
   "metadata": {},
   "source": [
    "## Fit and predict using custom model"
   ]
  },
  {
   "cell_type": "code",
   "execution_count": 6,
   "id": "a4322bdc",
   "metadata": {},
   "outputs": [],
   "source": [
    "from KNN import KNearestNeighbors\n",
    "\n",
    "my_knn_model = KNearestNeighbors(1, distance_metric=\"euclidean\")\n",
    "my_knn_model.fit(X=X_train, y=y_train)\n",
    "y_pred = my_knn_model.predict(X_test)"
   ]
  },
  {
   "cell_type": "markdown",
   "id": "2ea063ef",
   "metadata": {},
   "source": [
    "## Analyze results"
   ]
  },
  {
   "cell_type": "code",
   "execution_count": 7,
   "id": "bf6712f0",
   "metadata": {},
   "outputs": [],
   "source": [
    "def getAcc(y_test, y_pred):\n",
    "    df_results = pd.DataFrame(columns=[\"Real\",\"Predict\"])\n",
    "    df_results.Real = y_test\n",
    "    df_results.Predict = y_pred\n",
    "    \n",
    "    count = 0\n",
    "    for i in range(df_results.shape[0]):\n",
    "        experiment = df_results.iloc[i]\n",
    "        if experiment.Real == experiment.Predict:\n",
    "            count += 1\n",
    "\n",
    "    accuracy = (count/df_results.shape[0]) * 100\n",
    "    return accuracy"
   ]
  },
  {
   "cell_type": "code",
   "execution_count": 8,
   "id": "37d2661d",
   "metadata": {},
   "outputs": [
    {
     "name": "stdout",
     "output_type": "stream",
     "text": [
      "Accuracy at 77.5%\n"
     ]
    }
   ],
   "source": [
    "accuracy = getAcc(y_test, y_pred)\n",
    "\n",
    "print(f\"Accuracy at {accuracy}%\")"
   ]
  },
  {
   "cell_type": "code",
   "execution_count": 9,
   "id": "d4a3f630",
   "metadata": {},
   "outputs": [],
   "source": [
    "#df_results[df_results.Real != df_results.Predict]"
   ]
  },
  {
   "cell_type": "markdown",
   "id": "5f6da7c2",
   "metadata": {},
   "source": [
    "## Parameter configuring"
   ]
  },
  {
   "cell_type": "code",
   "execution_count": 11,
   "id": "d6a52b1a",
   "metadata": {},
   "outputs": [
    {
     "name": "stdout",
     "output_type": "stream",
     "text": [
      "Neighboor count: 3     Distance metric:cosine          Weight method:uniform         = Accuracy:90.0%\n",
      "Neighboor count: 3     Distance metric:cosine          Weight method:distance        = Accuracy:87.5%\n",
      "Neighboor count: 4     Distance metric:cosine          Weight method:uniform         = Accuracy:87.5%\n",
      "Neighboor count: 4     Distance metric:cosine          Weight method:distance        = Accuracy:87.5%\n",
      "Neighboor count: 1     Distance metric:cosine          Weight method:uniform         = Accuracy:85.0%\n"
     ]
    }
   ],
   "source": [
    "k_list = list(range(1,5))\n",
    "distances = [\"euclidean\", \"manhattan\", \"cosine\"]\n",
    "weights = [\"uniform\",\"distance\"]\n",
    "results = []\n",
    "\n",
    "for ks in k_list:\n",
    "    for d in distances:\n",
    "        for w in weights:\n",
    "            my_knn_model = KNearestNeighbors(ks, distance_metric=d, weight=w)\n",
    "            my_knn_model.fit(X=X_train, y=y_train)\n",
    "            y_pred = my_knn_model.predict(X_test)\n",
    "            acc  = getAcc(y_test, y_pred)\n",
    "            results.append([ks,d,w,acc])\n",
    "            \n",
    "results = sorted(results, reverse=True, key=lambda x: x[3])\n",
    "for x in results[:5]:\n",
    "    #print(x)    \n",
    "    print(f\"Neighboor count: {x[0]:<5} Distance metric:{x[1]:15} Weight method:{x[2]:15} = Accuracy:{x[3]:}%\")"
   ]
  },
  {
   "cell_type": "code",
   "execution_count": null,
   "id": "fa351cb2",
   "metadata": {},
   "outputs": [],
   "source": []
  }
 ],
 "metadata": {
  "kernelspec": {
   "display_name": "Python 3 (ipykernel)",
   "language": "python",
   "name": "python3"
  },
  "language_info": {
   "codemirror_mode": {
    "name": "ipython",
    "version": 3
   },
   "file_extension": ".py",
   "mimetype": "text/x-python",
   "name": "python",
   "nbconvert_exporter": "python",
   "pygments_lexer": "ipython3",
   "version": "3.10.4"
  }
 },
 "nbformat": 4,
 "nbformat_minor": 5
}
